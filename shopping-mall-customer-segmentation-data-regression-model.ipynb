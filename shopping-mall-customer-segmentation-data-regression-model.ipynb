{
 "cells": [
  {
   "cell_type": "code",
   "execution_count": 1,
   "id": "36cf960d",
   "metadata": {
    "_cell_guid": "b1076dfc-b9ad-4769-8c92-a6c4dae69d19",
    "_uuid": "8f2839f25d086af736a60e9eeb907d3b93b6e0e5",
    "execution": {
     "iopub.execute_input": "2024-04-21T20:14:51.617388Z",
     "iopub.status.busy": "2024-04-21T20:14:51.616888Z",
     "iopub.status.idle": "2024-04-21T20:14:54.552471Z",
     "shell.execute_reply": "2024-04-21T20:14:54.551267Z"
    },
    "papermill": {
     "duration": 2.953547,
     "end_time": "2024-04-21T20:14:54.555328",
     "exception": false,
     "start_time": "2024-04-21T20:14:51.601781",
     "status": "completed"
    },
    "tags": []
   },
   "outputs": [],
   "source": [
    "#Import libraries and packages\n",
    "import pandas as pd\n",
    "import numpy as np\n",
    "import matplotlib.pyplot as plt \n",
    "\n",
    "from sklearn.preprocessing import MinMaxScaler\n",
    "from sklearn.model_selection import train_test_split\n",
    "from sklearn.linear_model import LinearRegression\n",
    "from sklearn.neighbors import KNeighborsRegressor\n",
    "from sklearn.metrics import r2_score"
   ]
  },
  {
   "cell_type": "code",
   "execution_count": 2,
   "id": "ff28594b",
   "metadata": {
    "execution": {
     "iopub.execute_input": "2024-04-21T20:14:54.583205Z",
     "iopub.status.busy": "2024-04-21T20:14:54.582595Z",
     "iopub.status.idle": "2024-04-21T20:14:54.655392Z",
     "shell.execute_reply": "2024-04-21T20:14:54.654173Z"
    },
    "papermill": {
     "duration": 0.089897,
     "end_time": "2024-04-21T20:14:54.658361",
     "exception": false,
     "start_time": "2024-04-21T20:14:54.568464",
     "status": "completed"
    },
    "tags": []
   },
   "outputs": [
    {
     "data": {
      "text/html": [
       "<div>\n",
       "<style scoped>\n",
       "    .dataframe tbody tr th:only-of-type {\n",
       "        vertical-align: middle;\n",
       "    }\n",
       "\n",
       "    .dataframe tbody tr th {\n",
       "        vertical-align: top;\n",
       "    }\n",
       "\n",
       "    .dataframe thead th {\n",
       "        text-align: right;\n",
       "    }\n",
       "</style>\n",
       "<table border=\"1\" class=\"dataframe\">\n",
       "  <thead>\n",
       "    <tr style=\"text-align: right;\">\n",
       "      <th></th>\n",
       "      <th>Customer ID</th>\n",
       "      <th>Age</th>\n",
       "      <th>Gender</th>\n",
       "      <th>Annual Income</th>\n",
       "      <th>Spending Score</th>\n",
       "    </tr>\n",
       "  </thead>\n",
       "  <tbody>\n",
       "    <tr>\n",
       "      <th>0</th>\n",
       "      <td>d410ea53-6661-42a9-ad3a-f554b05fd2a7</td>\n",
       "      <td>30</td>\n",
       "      <td>Male</td>\n",
       "      <td>151479</td>\n",
       "      <td>89</td>\n",
       "    </tr>\n",
       "    <tr>\n",
       "      <th>1</th>\n",
       "      <td>1770b26f-493f-46b6-837f-4237fb5a314e</td>\n",
       "      <td>58</td>\n",
       "      <td>Female</td>\n",
       "      <td>185088</td>\n",
       "      <td>95</td>\n",
       "    </tr>\n",
       "    <tr>\n",
       "      <th>2</th>\n",
       "      <td>e81aa8eb-1767-4b77-87ce-1620dc732c5e</td>\n",
       "      <td>62</td>\n",
       "      <td>Female</td>\n",
       "      <td>70912</td>\n",
       "      <td>76</td>\n",
       "    </tr>\n",
       "    <tr>\n",
       "      <th>3</th>\n",
       "      <td>9795712a-ad19-47bf-8886-4f997d6046e3</td>\n",
       "      <td>23</td>\n",
       "      <td>Male</td>\n",
       "      <td>55460</td>\n",
       "      <td>57</td>\n",
       "    </tr>\n",
       "  </tbody>\n",
       "</table>\n",
       "</div>"
      ],
      "text/plain": [
       "                            Customer ID  Age  Gender  Annual Income  \\\n",
       "0  d410ea53-6661-42a9-ad3a-f554b05fd2a7   30    Male         151479   \n",
       "1  1770b26f-493f-46b6-837f-4237fb5a314e   58  Female         185088   \n",
       "2  e81aa8eb-1767-4b77-87ce-1620dc732c5e   62  Female          70912   \n",
       "3  9795712a-ad19-47bf-8886-4f997d6046e3   23    Male          55460   \n",
       "\n",
       "   Spending Score  \n",
       "0              89  \n",
       "1              95  \n",
       "2              76  \n",
       "3              57  "
      ]
     },
     "execution_count": 2,
     "metadata": {},
     "output_type": "execute_result"
    }
   ],
   "source": [
    "#Import dataframe\n",
    "df_mall = pd.read_csv('/kaggle/input/shopping-mall-customer-segmentation-data/Shopping Mall Customer Segmentation Data .csv')\n",
    "df_mall.head(4)"
   ]
  },
  {
   "cell_type": "code",
   "execution_count": 3,
   "id": "5e510316",
   "metadata": {
    "execution": {
     "iopub.execute_input": "2024-04-21T20:14:54.686844Z",
     "iopub.status.busy": "2024-04-21T20:14:54.686395Z",
     "iopub.status.idle": "2024-04-21T20:14:54.716836Z",
     "shell.execute_reply": "2024-04-21T20:14:54.715711Z"
    },
    "papermill": {
     "duration": 0.048126,
     "end_time": "2024-04-21T20:14:54.719677",
     "exception": false,
     "start_time": "2024-04-21T20:14:54.671551",
     "status": "completed"
    },
    "tags": []
   },
   "outputs": [
    {
     "data": {
      "text/html": [
       "<div>\n",
       "<style scoped>\n",
       "    .dataframe tbody tr th:only-of-type {\n",
       "        vertical-align: middle;\n",
       "    }\n",
       "\n",
       "    .dataframe tbody tr th {\n",
       "        vertical-align: top;\n",
       "    }\n",
       "\n",
       "    .dataframe thead th {\n",
       "        text-align: right;\n",
       "    }\n",
       "</style>\n",
       "<table border=\"1\" class=\"dataframe\">\n",
       "  <thead>\n",
       "    <tr style=\"text-align: right;\">\n",
       "      <th></th>\n",
       "      <th>Age</th>\n",
       "      <th>Annual Income</th>\n",
       "      <th>Spending Score</th>\n",
       "    </tr>\n",
       "  </thead>\n",
       "  <tbody>\n",
       "    <tr>\n",
       "      <th>count</th>\n",
       "      <td>15079.000000</td>\n",
       "      <td>15079.000000</td>\n",
       "      <td>15079.000000</td>\n",
       "    </tr>\n",
       "    <tr>\n",
       "      <th>mean</th>\n",
       "      <td>54.191591</td>\n",
       "      <td>109742.880562</td>\n",
       "      <td>50.591617</td>\n",
       "    </tr>\n",
       "    <tr>\n",
       "      <th>std</th>\n",
       "      <td>21.119207</td>\n",
       "      <td>52249.425866</td>\n",
       "      <td>28.726977</td>\n",
       "    </tr>\n",
       "    <tr>\n",
       "      <th>min</th>\n",
       "      <td>18.000000</td>\n",
       "      <td>20022.000000</td>\n",
       "      <td>1.000000</td>\n",
       "    </tr>\n",
       "    <tr>\n",
       "      <th>25%</th>\n",
       "      <td>36.000000</td>\n",
       "      <td>64141.000000</td>\n",
       "      <td>26.000000</td>\n",
       "    </tr>\n",
       "    <tr>\n",
       "      <th>50%</th>\n",
       "      <td>54.000000</td>\n",
       "      <td>109190.000000</td>\n",
       "      <td>51.000000</td>\n",
       "    </tr>\n",
       "    <tr>\n",
       "      <th>75%</th>\n",
       "      <td>72.000000</td>\n",
       "      <td>155008.000000</td>\n",
       "      <td>75.000000</td>\n",
       "    </tr>\n",
       "    <tr>\n",
       "      <th>max</th>\n",
       "      <td>90.000000</td>\n",
       "      <td>199974.000000</td>\n",
       "      <td>100.000000</td>\n",
       "    </tr>\n",
       "  </tbody>\n",
       "</table>\n",
       "</div>"
      ],
      "text/plain": [
       "                Age  Annual Income  Spending Score\n",
       "count  15079.000000   15079.000000    15079.000000\n",
       "mean      54.191591  109742.880562       50.591617\n",
       "std       21.119207   52249.425866       28.726977\n",
       "min       18.000000   20022.000000        1.000000\n",
       "25%       36.000000   64141.000000       26.000000\n",
       "50%       54.000000  109190.000000       51.000000\n",
       "75%       72.000000  155008.000000       75.000000\n",
       "max       90.000000  199974.000000      100.000000"
      ]
     },
     "execution_count": 3,
     "metadata": {},
     "output_type": "execute_result"
    }
   ],
   "source": [
    "#Dataset centrality measures\n",
    "df_mall.describe()"
   ]
  },
  {
   "cell_type": "code",
   "execution_count": 4,
   "id": "d8c6c128",
   "metadata": {
    "execution": {
     "iopub.execute_input": "2024-04-21T20:14:54.750171Z",
     "iopub.status.busy": "2024-04-21T20:14:54.749702Z",
     "iopub.status.idle": "2024-04-21T20:14:54.758914Z",
     "shell.execute_reply": "2024-04-21T20:14:54.757436Z"
    },
    "papermill": {
     "duration": 0.028026,
     "end_time": "2024-04-21T20:14:54.761774",
     "exception": false,
     "start_time": "2024-04-21T20:14:54.733748",
     "status": "completed"
    },
    "tags": []
   },
   "outputs": [
    {
     "data": {
      "text/plain": [
       "Customer ID       object\n",
       "Age                int64\n",
       "Gender            object\n",
       "Annual Income      int64\n",
       "Spending Score     int64\n",
       "dtype: object"
      ]
     },
     "execution_count": 4,
     "metadata": {},
     "output_type": "execute_result"
    }
   ],
   "source": [
    "#Type of variables in the dataset\n",
    "df_mall.dtypes"
   ]
  },
  {
   "cell_type": "code",
   "execution_count": 5,
   "id": "1f85f2a6",
   "metadata": {
    "execution": {
     "iopub.execute_input": "2024-04-21T20:14:54.790814Z",
     "iopub.status.busy": "2024-04-21T20:14:54.790406Z",
     "iopub.status.idle": "2024-04-21T20:14:54.810789Z",
     "shell.execute_reply": "2024-04-21T20:14:54.809643Z"
    },
    "papermill": {
     "duration": 0.038197,
     "end_time": "2024-04-21T20:14:54.813788",
     "exception": false,
     "start_time": "2024-04-21T20:14:54.775591",
     "status": "completed"
    },
    "tags": []
   },
   "outputs": [],
   "source": [
    "df_gender = df_mall.groupby('Gender').agg({'Customer ID':'count'}).reset_index()"
   ]
  },
  {
   "cell_type": "code",
   "execution_count": 6,
   "id": "77ed2ba1",
   "metadata": {
    "execution": {
     "iopub.execute_input": "2024-04-21T20:14:54.843216Z",
     "iopub.status.busy": "2024-04-21T20:14:54.842761Z",
     "iopub.status.idle": "2024-04-21T20:14:55.177284Z",
     "shell.execute_reply": "2024-04-21T20:14:55.175370Z"
    },
    "papermill": {
     "duration": 0.35549,
     "end_time": "2024-04-21T20:14:55.182827",
     "exception": false,
     "start_time": "2024-04-21T20:14:54.827337",
     "status": "completed"
    },
    "tags": []
   },
   "outputs": [
    {
     "data": {
      "image/png": "[encoded data removed]",
      "text/plain": [
       "<Figure size 1000x400 with 1 Axes>"
      ]
     },
     "metadata": {},
     "output_type": "display_data"
    }
   ],
   "source": [
    "fig = plt.figure(figsize=[10,4])\n",
    "ax = fig.add_subplot()\n",
    "ax.pie(pd.Series(df_gender['Customer ID']), explode=(0,0.05), labels=df_gender['Gender'], \n",
    "       autopct='%1.2f%%', shadow=True, startangle=90)\n",
    "plt.show()"
   ]
  },
  {
   "cell_type": "code",
   "execution_count": 7,
   "id": "91d41f93",
   "metadata": {
    "execution": {
     "iopub.execute_input": "2024-04-21T20:14:55.243572Z",
     "iopub.status.busy": "2024-04-21T20:14:55.242378Z",
     "iopub.status.idle": "2024-04-21T20:14:55.262422Z",
     "shell.execute_reply": "2024-04-21T20:14:55.261226Z"
    },
    "papermill": {
     "duration": 0.051782,
     "end_time": "2024-04-21T20:14:55.265192",
     "exception": false,
     "start_time": "2024-04-21T20:14:55.213410",
     "status": "completed"
    },
    "tags": []
   },
   "outputs": [
    {
     "data": {
      "text/plain": [
       "Customer ID       0\n",
       "Age               0\n",
       "Gender            0\n",
       "Annual Income     0\n",
       "Spending Score    0\n",
       "dtype: int64"
      ]
     },
     "execution_count": 7,
     "metadata": {},
     "output_type": "execute_result"
    }
   ],
   "source": [
    "#Check null values\n",
    "df_mall.isnull().sum()"
   ]
  },
  {
   "cell_type": "code",
   "execution_count": 8,
   "id": "ba3f5dd1",
   "metadata": {
    "execution": {
     "iopub.execute_input": "2024-04-21T20:14:55.316873Z",
     "iopub.status.busy": "2024-04-21T20:14:55.314839Z",
     "iopub.status.idle": "2024-04-21T20:14:55.327475Z",
     "shell.execute_reply": "2024-04-21T20:14:55.325850Z"
    },
    "papermill": {
     "duration": 0.042287,
     "end_time": "2024-04-21T20:14:55.330914",
     "exception": false,
     "start_time": "2024-04-21T20:14:55.288627",
     "status": "completed"
    },
    "tags": []
   },
   "outputs": [
    {
     "data": {
      "text/plain": [
       "(15079, 5)"
      ]
     },
     "execution_count": 8,
     "metadata": {},
     "output_type": "execute_result"
    }
   ],
   "source": [
    "#Dataset dimension\n",
    "df_mall.shape"
   ]
  },
  {
   "cell_type": "code",
   "execution_count": 9,
   "id": "14553add",
   "metadata": {
    "execution": {
     "iopub.execute_input": "2024-04-21T20:14:55.368963Z",
     "iopub.status.busy": "2024-04-21T20:14:55.368535Z",
     "iopub.status.idle": "2024-04-21T20:14:55.384112Z",
     "shell.execute_reply": "2024-04-21T20:14:55.382695Z"
    },
    "papermill": {
     "duration": 0.03855,
     "end_time": "2024-04-21T20:14:55.387741",
     "exception": false,
     "start_time": "2024-04-21T20:14:55.349191",
     "status": "completed"
    },
    "tags": []
   },
   "outputs": [
    {
     "data": {
      "text/plain": [
       "Gender\n",
       "Male      7595\n",
       "Female    7484\n",
       "Name: count, dtype: int64"
      ]
     },
     "execution_count": 9,
     "metadata": {},
     "output_type": "execute_result"
    }
   ],
   "source": [
    "#Check cardinality of the Gender variable\n",
    "df_mall['Gender'].value_counts()"
   ]
  },
  {
   "cell_type": "code",
   "execution_count": 10,
   "id": "b25aedde",
   "metadata": {
    "execution": {
     "iopub.execute_input": "2024-04-21T20:14:55.430570Z",
     "iopub.status.busy": "2024-04-21T20:14:55.429009Z",
     "iopub.status.idle": "2024-04-21T20:14:55.444831Z",
     "shell.execute_reply": "2024-04-21T20:14:55.443576Z"
    },
    "papermill": {
     "duration": 0.039172,
     "end_time": "2024-04-21T20:14:55.447528",
     "exception": false,
     "start_time": "2024-04-21T20:14:55.408356",
     "status": "completed"
    },
    "tags": []
   },
   "outputs": [
    {
     "data": {
      "text/html": [
       "<div>\n",
       "<style scoped>\n",
       "    .dataframe tbody tr th:only-of-type {\n",
       "        vertical-align: middle;\n",
       "    }\n",
       "\n",
       "    .dataframe tbody tr th {\n",
       "        vertical-align: top;\n",
       "    }\n",
       "\n",
       "    .dataframe thead th {\n",
       "        text-align: right;\n",
       "    }\n",
       "</style>\n",
       "<table border=\"1\" class=\"dataframe\">\n",
       "  <thead>\n",
       "    <tr style=\"text-align: right;\">\n",
       "      <th></th>\n",
       "      <th>Female</th>\n",
       "      <th>Male</th>\n",
       "    </tr>\n",
       "  </thead>\n",
       "  <tbody>\n",
       "    <tr>\n",
       "      <th>0</th>\n",
       "      <td>0</td>\n",
       "      <td>1</td>\n",
       "    </tr>\n",
       "    <tr>\n",
       "      <th>1</th>\n",
       "      <td>1</td>\n",
       "      <td>0</td>\n",
       "    </tr>\n",
       "    <tr>\n",
       "      <th>2</th>\n",
       "      <td>1</td>\n",
       "      <td>0</td>\n",
       "    </tr>\n",
       "    <tr>\n",
       "      <th>3</th>\n",
       "      <td>0</td>\n",
       "      <td>1</td>\n",
       "    </tr>\n",
       "  </tbody>\n",
       "</table>\n",
       "</div>"
      ],
      "text/plain": [
       "   Female  Male\n",
       "0       0     1\n",
       "1       1     0\n",
       "2       1     0\n",
       "3       0     1"
      ]
     },
     "execution_count": 10,
     "metadata": {},
     "output_type": "execute_result"
    }
   ],
   "source": [
    "#Convert categorical variables\n",
    "df_gender = pd.get_dummies(df_mall.Gender, dtype='int')\n",
    "df_gender.head(4)"
   ]
  },
  {
   "cell_type": "code",
   "execution_count": 11,
   "id": "28804051",
   "metadata": {
    "execution": {
     "iopub.execute_input": "2024-04-21T20:14:55.478931Z",
     "iopub.status.busy": "2024-04-21T20:14:55.478521Z",
     "iopub.status.idle": "2024-04-21T20:14:55.494610Z",
     "shell.execute_reply": "2024-04-21T20:14:55.493185Z"
    },
    "papermill": {
     "duration": 0.035832,
     "end_time": "2024-04-21T20:14:55.497855",
     "exception": false,
     "start_time": "2024-04-21T20:14:55.462023",
     "status": "completed"
    },
    "tags": []
   },
   "outputs": [
    {
     "data": {
      "text/html": [
       "<div>\n",
       "<style scoped>\n",
       "    .dataframe tbody tr th:only-of-type {\n",
       "        vertical-align: middle;\n",
       "    }\n",
       "\n",
       "    .dataframe tbody tr th {\n",
       "        vertical-align: top;\n",
       "    }\n",
       "\n",
       "    .dataframe thead th {\n",
       "        text-align: right;\n",
       "    }\n",
       "</style>\n",
       "<table border=\"1\" class=\"dataframe\">\n",
       "  <thead>\n",
       "    <tr style=\"text-align: right;\">\n",
       "      <th></th>\n",
       "      <th>Customer ID</th>\n",
       "      <th>Age</th>\n",
       "      <th>Gender</th>\n",
       "      <th>Annual Income</th>\n",
       "      <th>Spending Score</th>\n",
       "      <th>Female</th>\n",
       "      <th>Male</th>\n",
       "    </tr>\n",
       "  </thead>\n",
       "  <tbody>\n",
       "    <tr>\n",
       "      <th>0</th>\n",
       "      <td>d410ea53-6661-42a9-ad3a-f554b05fd2a7</td>\n",
       "      <td>30</td>\n",
       "      <td>Male</td>\n",
       "      <td>151479</td>\n",
       "      <td>89</td>\n",
       "      <td>0</td>\n",
       "      <td>1</td>\n",
       "    </tr>\n",
       "    <tr>\n",
       "      <th>1</th>\n",
       "      <td>1770b26f-493f-46b6-837f-4237fb5a314e</td>\n",
       "      <td>58</td>\n",
       "      <td>Female</td>\n",
       "      <td>185088</td>\n",
       "      <td>95</td>\n",
       "      <td>1</td>\n",
       "      <td>0</td>\n",
       "    </tr>\n",
       "    <tr>\n",
       "      <th>2</th>\n",
       "      <td>e81aa8eb-1767-4b77-87ce-1620dc732c5e</td>\n",
       "      <td>62</td>\n",
       "      <td>Female</td>\n",
       "      <td>70912</td>\n",
       "      <td>76</td>\n",
       "      <td>1</td>\n",
       "      <td>0</td>\n",
       "    </tr>\n",
       "    <tr>\n",
       "      <th>3</th>\n",
       "      <td>9795712a-ad19-47bf-8886-4f997d6046e3</td>\n",
       "      <td>23</td>\n",
       "      <td>Male</td>\n",
       "      <td>55460</td>\n",
       "      <td>57</td>\n",
       "      <td>0</td>\n",
       "      <td>1</td>\n",
       "    </tr>\n",
       "  </tbody>\n",
       "</table>\n",
       "</div>"
      ],
      "text/plain": [
       "                            Customer ID  Age  Gender  Annual Income  \\\n",
       "0  d410ea53-6661-42a9-ad3a-f554b05fd2a7   30    Male         151479   \n",
       "1  1770b26f-493f-46b6-837f-4237fb5a314e   58  Female         185088   \n",
       "2  e81aa8eb-1767-4b77-87ce-1620dc732c5e   62  Female          70912   \n",
       "3  9795712a-ad19-47bf-8886-4f997d6046e3   23    Male          55460   \n",
       "\n",
       "   Spending Score  Female  Male  \n",
       "0              89       0     1  \n",
       "1              95       1     0  \n",
       "2              76       1     0  \n",
       "3              57       0     1  "
      ]
     },
     "execution_count": 11,
     "metadata": {},
     "output_type": "execute_result"
    }
   ],
   "source": [
    "#Combine df_gender with main dataframe\n",
    "df_mall = pd.concat([df_mall, df_gender], axis=1)\n",
    "df_mall.head(4)"
   ]
  },
  {
   "cell_type": "code",
   "execution_count": 12,
   "id": "e0701a0b",
   "metadata": {
    "execution": {
     "iopub.execute_input": "2024-04-21T20:14:55.532273Z",
     "iopub.status.busy": "2024-04-21T20:14:55.530809Z",
     "iopub.status.idle": "2024-04-21T20:14:55.561543Z",
     "shell.execute_reply": "2024-04-21T20:14:55.560258Z"
    },
    "papermill": {
     "duration": 0.051539,
     "end_time": "2024-04-21T20:14:55.564901",
     "exception": false,
     "start_time": "2024-04-21T20:14:55.513362",
     "status": "completed"
    },
    "tags": []
   },
   "outputs": [
    {
     "data": {
      "text/html": [
       "<div>\n",
       "<style scoped>\n",
       "    .dataframe tbody tr th:only-of-type {\n",
       "        vertical-align: middle;\n",
       "    }\n",
       "\n",
       "    .dataframe tbody tr th {\n",
       "        vertical-align: top;\n",
       "    }\n",
       "\n",
       "    .dataframe thead th {\n",
       "        text-align: right;\n",
       "    }\n",
       "</style>\n",
       "<table border=\"1\" class=\"dataframe\">\n",
       "  <thead>\n",
       "    <tr style=\"text-align: right;\">\n",
       "      <th></th>\n",
       "      <th>Customer ID</th>\n",
       "      <th>Age</th>\n",
       "      <th>Gender</th>\n",
       "      <th>Annual Income</th>\n",
       "      <th>Spending Score</th>\n",
       "      <th>Female</th>\n",
       "      <th>Male</th>\n",
       "    </tr>\n",
       "  </thead>\n",
       "  <tbody>\n",
       "    <tr>\n",
       "      <th>0</th>\n",
       "      <td>d410ea53-6661-42a9-ad3a-f554b05fd2a7</td>\n",
       "      <td>30</td>\n",
       "      <td>Male</td>\n",
       "      <td>0.730511</td>\n",
       "      <td>0.888889</td>\n",
       "      <td>0</td>\n",
       "      <td>1</td>\n",
       "    </tr>\n",
       "    <tr>\n",
       "      <th>1</th>\n",
       "      <td>1770b26f-493f-46b6-837f-4237fb5a314e</td>\n",
       "      <td>58</td>\n",
       "      <td>Female</td>\n",
       "      <td>0.917278</td>\n",
       "      <td>0.949495</td>\n",
       "      <td>1</td>\n",
       "      <td>0</td>\n",
       "    </tr>\n",
       "    <tr>\n",
       "      <th>2</th>\n",
       "      <td>e81aa8eb-1767-4b77-87ce-1620dc732c5e</td>\n",
       "      <td>62</td>\n",
       "      <td>Female</td>\n",
       "      <td>0.282798</td>\n",
       "      <td>0.757576</td>\n",
       "      <td>1</td>\n",
       "      <td>0</td>\n",
       "    </tr>\n",
       "    <tr>\n",
       "      <th>3</th>\n",
       "      <td>9795712a-ad19-47bf-8886-4f997d6046e3</td>\n",
       "      <td>23</td>\n",
       "      <td>Male</td>\n",
       "      <td>0.196930</td>\n",
       "      <td>0.565657</td>\n",
       "      <td>0</td>\n",
       "      <td>1</td>\n",
       "    </tr>\n",
       "  </tbody>\n",
       "</table>\n",
       "</div>"
      ],
      "text/plain": [
       "                            Customer ID  Age  Gender  Annual Income  \\\n",
       "0  d410ea53-6661-42a9-ad3a-f554b05fd2a7   30    Male       0.730511   \n",
       "1  1770b26f-493f-46b6-837f-4237fb5a314e   58  Female       0.917278   \n",
       "2  e81aa8eb-1767-4b77-87ce-1620dc732c5e   62  Female       0.282798   \n",
       "3  9795712a-ad19-47bf-8886-4f997d6046e3   23    Male       0.196930   \n",
       "\n",
       "   Spending Score  Female  Male  \n",
       "0        0.888889       0     1  \n",
       "1        0.949495       1     0  \n",
       "2        0.757576       1     0  \n",
       "3        0.565657       0     1  "
      ]
     },
     "execution_count": 12,
     "metadata": {},
     "output_type": "execute_result"
    }
   ],
   "source": [
    "#Convert numerics variables\n",
    "scaler = MinMaxScaler()\n",
    "scaler.fit(df_mall[['Annual Income','Spending Score']])\n",
    "df_mall[['Annual Income','Spending Score']] = scaler.transform(df_mall[['Annual Income','Spending Score']])\n",
    "df_mall.head(4)"
   ]
  },
  {
   "cell_type": "code",
   "execution_count": 13,
   "id": "f272ce26",
   "metadata": {
    "execution": {
     "iopub.execute_input": "2024-04-21T20:14:55.608027Z",
     "iopub.status.busy": "2024-04-21T20:14:55.606981Z",
     "iopub.status.idle": "2024-04-21T20:14:55.644637Z",
     "shell.execute_reply": "2024-04-21T20:14:55.643221Z"
    },
    "papermill": {
     "duration": 0.060635,
     "end_time": "2024-04-21T20:14:55.647545",
     "exception": false,
     "start_time": "2024-04-21T20:14:55.586910",
     "status": "completed"
    },
    "tags": []
   },
   "outputs": [
    {
     "data": {
      "text/html": [
       "<div>\n",
       "<style scoped>\n",
       "    .dataframe tbody tr th:only-of-type {\n",
       "        vertical-align: middle;\n",
       "    }\n",
       "\n",
       "    .dataframe tbody tr th {\n",
       "        vertical-align: top;\n",
       "    }\n",
       "\n",
       "    .dataframe thead th {\n",
       "        text-align: right;\n",
       "    }\n",
       "</style>\n",
       "<table border=\"1\" class=\"dataframe\">\n",
       "  <thead>\n",
       "    <tr style=\"text-align: right;\">\n",
       "      <th></th>\n",
       "      <th>Spending Score</th>\n",
       "      <th>Gender</th>\n",
       "      <th>Male</th>\n",
       "      <th>Female</th>\n",
       "      <th>Annual Income</th>\n",
       "    </tr>\n",
       "  </thead>\n",
       "  <tbody>\n",
       "    <tr>\n",
       "      <th>0</th>\n",
       "      <td>0.000000</td>\n",
       "      <td>Female</td>\n",
       "      <td>0</td>\n",
       "      <td>81</td>\n",
       "      <td>0.564924</td>\n",
       "    </tr>\n",
       "    <tr>\n",
       "      <th>1</th>\n",
       "      <td>0.000000</td>\n",
       "      <td>Male</td>\n",
       "      <td>71</td>\n",
       "      <td>0</td>\n",
       "      <td>0.528277</td>\n",
       "    </tr>\n",
       "    <tr>\n",
       "      <th>2</th>\n",
       "      <td>0.010101</td>\n",
       "      <td>Female</td>\n",
       "      <td>0</td>\n",
       "      <td>65</td>\n",
       "      <td>0.517811</td>\n",
       "    </tr>\n",
       "    <tr>\n",
       "      <th>3</th>\n",
       "      <td>0.010101</td>\n",
       "      <td>Male</td>\n",
       "      <td>74</td>\n",
       "      <td>0</td>\n",
       "      <td>0.499542</td>\n",
       "    </tr>\n",
       "    <tr>\n",
       "      <th>4</th>\n",
       "      <td>0.020202</td>\n",
       "      <td>Female</td>\n",
       "      <td>0</td>\n",
       "      <td>91</td>\n",
       "      <td>0.490960</td>\n",
       "    </tr>\n",
       "  </tbody>\n",
       "</table>\n",
       "</div>"
      ],
      "text/plain": [
       "   Spending Score  Gender  Male  Female  Annual Income\n",
       "0        0.000000  Female     0      81       0.564924\n",
       "1        0.000000    Male    71       0       0.528277\n",
       "2        0.010101  Female     0      65       0.517811\n",
       "3        0.010101    Male    74       0       0.499542\n",
       "4        0.020202  Female     0      91       0.490960"
      ]
     },
     "execution_count": 13,
     "metadata": {},
     "output_type": "execute_result"
    }
   ],
   "source": [
    "df_by_score = df_mall.groupby(['Spending Score','Gender']).agg({'Male':'sum','Female':'sum','Annual Income':'mean'}).reset_index()\n",
    "df_by_score.head()"
   ]
  },
  {
   "cell_type": "code",
   "execution_count": 14,
   "id": "0f797aa8",
   "metadata": {
    "execution": {
     "iopub.execute_input": "2024-04-21T20:14:55.680165Z",
     "iopub.status.busy": "2024-04-21T20:14:55.679709Z",
     "iopub.status.idle": "2024-04-21T20:14:55.687817Z",
     "shell.execute_reply": "2024-04-21T20:14:55.686621Z"
    },
    "papermill": {
     "duration": 0.027111,
     "end_time": "2024-04-21T20:14:55.690180",
     "exception": false,
     "start_time": "2024-04-21T20:14:55.663069",
     "status": "completed"
    },
    "tags": []
   },
   "outputs": [
    {
     "data": {
      "text/plain": [
       "\"\\nfig = plt.figure(figsize=[10,5])\\nax = fig.add_subplot()\\nax.scatter(df_by_score['Spending Score'], df_by_score['Male'], s=50, c='green')\\nax.scatter(df_by_score['Spending Score'], df_by_score['Female'], s=50, c='blue')\\nax.xlabel\\n\""
      ]
     },
     "execution_count": 14,
     "metadata": {},
     "output_type": "execute_result"
    }
   ],
   "source": [
    "'''\n",
    "fig = plt.figure(figsize=[10,5])\n",
    "ax = fig.add_subplot()\n",
    "ax.scatter(df_by_score['Spending Score'], df_by_score['Male'], s=50, c='green')\n",
    "ax.scatter(df_by_score['Spending Score'], df_by_score['Female'], s=50, c='blue')\n",
    "ax.xlabel\n",
    "'''"
   ]
  },
  {
   "cell_type": "code",
   "execution_count": 15,
   "id": "3a3bcaaa",
   "metadata": {
    "execution": {
     "iopub.execute_input": "2024-04-21T20:14:55.723169Z",
     "iopub.status.busy": "2024-04-21T20:14:55.722386Z",
     "iopub.status.idle": "2024-04-21T20:14:55.990307Z",
     "shell.execute_reply": "2024-04-21T20:14:55.988918Z"
    },
    "papermill": {
     "duration": 0.287653,
     "end_time": "2024-04-21T20:14:55.993349",
     "exception": false,
     "start_time": "2024-04-21T20:14:55.705696",
     "status": "completed"
    },
    "tags": []
   },
   "outputs": [
    {
     "data": {
      "image/png": "[encoded data removed]",
      "text/plain": [
       "<Figure size 1000x500 with 1 Axes>"
      ]
     },
     "metadata": {},
     "output_type": "display_data"
    }
   ],
   "source": [
    "fig = plt.figure(figsize=[10,5])\n",
    "ax = fig.add_subplot()\n"
   ]
  },
  {
   "cell_type": "code",
   "execution_count": 16,
   "id": "cd6ffb1e",
   "metadata": {
    "execution": {
     "iopub.execute_input": "2024-04-21T20:14:56.027590Z",
     "iopub.status.busy": "2024-04-21T20:14:56.027216Z",
     "iopub.status.idle": "2024-04-21T20:14:56.047826Z",
     "shell.execute_reply": "2024-04-21T20:14:56.046431Z"
    },
    "papermill": {
     "duration": 0.041001,
     "end_time": "2024-04-21T20:14:56.050656",
     "exception": false,
     "start_time": "2024-04-21T20:14:56.009655",
     "status": "completed"
    },
    "tags": []
   },
   "outputs": [
    {
     "data": {
      "text/html": [
       "<div>\n",
       "<style scoped>\n",
       "    .dataframe tbody tr th:only-of-type {\n",
       "        vertical-align: middle;\n",
       "    }\n",
       "\n",
       "    .dataframe tbody tr th {\n",
       "        vertical-align: top;\n",
       "    }\n",
       "\n",
       "    .dataframe thead th {\n",
       "        text-align: right;\n",
       "    }\n",
       "</style>\n",
       "<table border=\"1\" class=\"dataframe\">\n",
       "  <thead>\n",
       "    <tr style=\"text-align: right;\">\n",
       "      <th></th>\n",
       "      <th>Age</th>\n",
       "      <th>Annual Income</th>\n",
       "      <th>Spending Score</th>\n",
       "      <th>Female</th>\n",
       "      <th>Male</th>\n",
       "    </tr>\n",
       "  </thead>\n",
       "  <tbody>\n",
       "    <tr>\n",
       "      <th>Age</th>\n",
       "      <td>1.000000</td>\n",
       "      <td>0.004776</td>\n",
       "      <td>-0.008251</td>\n",
       "      <td>-0.002034</td>\n",
       "      <td>0.002034</td>\n",
       "    </tr>\n",
       "    <tr>\n",
       "      <th>Annual Income</th>\n",
       "      <td>0.004776</td>\n",
       "      <td>1.000000</td>\n",
       "      <td>0.003234</td>\n",
       "      <td>0.003038</td>\n",
       "      <td>-0.003038</td>\n",
       "    </tr>\n",
       "    <tr>\n",
       "      <th>Spending Score</th>\n",
       "      <td>-0.008251</td>\n",
       "      <td>0.003234</td>\n",
       "      <td>1.000000</td>\n",
       "      <td>-0.006703</td>\n",
       "      <td>0.006703</td>\n",
       "    </tr>\n",
       "    <tr>\n",
       "      <th>Female</th>\n",
       "      <td>-0.002034</td>\n",
       "      <td>0.003038</td>\n",
       "      <td>-0.006703</td>\n",
       "      <td>1.000000</td>\n",
       "      <td>-1.000000</td>\n",
       "    </tr>\n",
       "    <tr>\n",
       "      <th>Male</th>\n",
       "      <td>0.002034</td>\n",
       "      <td>-0.003038</td>\n",
       "      <td>0.006703</td>\n",
       "      <td>-1.000000</td>\n",
       "      <td>1.000000</td>\n",
       "    </tr>\n",
       "  </tbody>\n",
       "</table>\n",
       "</div>"
      ],
      "text/plain": [
       "                     Age  Annual Income  Spending Score    Female      Male\n",
       "Age             1.000000       0.004776       -0.008251 -0.002034  0.002034\n",
       "Annual Income   0.004776       1.000000        0.003234  0.003038 -0.003038\n",
       "Spending Score -0.008251       0.003234        1.000000 -0.006703  0.006703\n",
       "Female         -0.002034       0.003038       -0.006703  1.000000 -1.000000\n",
       "Male            0.002034      -0.003038        0.006703 -1.000000  1.000000"
      ]
     },
     "execution_count": 16,
     "metadata": {},
     "output_type": "execute_result"
    }
   ],
   "source": [
    "#Check correlation between variables\n",
    "corr = df_mall[['Age','Annual Income','Spending Score','Female','Male']].corr()\n",
    "corr"
   ]
  },
  {
   "cell_type": "code",
   "execution_count": 17,
   "id": "ec04b453",
   "metadata": {
    "execution": {
     "iopub.execute_input": "2024-04-21T20:14:56.085976Z",
     "iopub.status.busy": "2024-04-21T20:14:56.085552Z",
     "iopub.status.idle": "2024-04-21T20:14:56.102497Z",
     "shell.execute_reply": "2024-04-21T20:14:56.100924Z"
    },
    "papermill": {
     "duration": 0.037234,
     "end_time": "2024-04-21T20:14:56.105259",
     "exception": false,
     "start_time": "2024-04-21T20:14:56.068025",
     "status": "completed"
    },
    "tags": []
   },
   "outputs": [
    {
     "data": {
      "text/html": [
       "<div>\n",
       "<style scoped>\n",
       "    .dataframe tbody tr th:only-of-type {\n",
       "        vertical-align: middle;\n",
       "    }\n",
       "\n",
       "    .dataframe tbody tr th {\n",
       "        vertical-align: top;\n",
       "    }\n",
       "\n",
       "    .dataframe thead th {\n",
       "        text-align: right;\n",
       "    }\n",
       "</style>\n",
       "<table border=\"1\" class=\"dataframe\">\n",
       "  <thead>\n",
       "    <tr style=\"text-align: right;\">\n",
       "      <th></th>\n",
       "      <th>Age</th>\n",
       "      <th>Annual Income</th>\n",
       "      <th>Female</th>\n",
       "      <th>Male</th>\n",
       "    </tr>\n",
       "  </thead>\n",
       "  <tbody>\n",
       "    <tr>\n",
       "      <th>0</th>\n",
       "      <td>30</td>\n",
       "      <td>0.730511</td>\n",
       "      <td>0</td>\n",
       "      <td>1</td>\n",
       "    </tr>\n",
       "    <tr>\n",
       "      <th>1</th>\n",
       "      <td>58</td>\n",
       "      <td>0.917278</td>\n",
       "      <td>1</td>\n",
       "      <td>0</td>\n",
       "    </tr>\n",
       "    <tr>\n",
       "      <th>2</th>\n",
       "      <td>62</td>\n",
       "      <td>0.282798</td>\n",
       "      <td>1</td>\n",
       "      <td>0</td>\n",
       "    </tr>\n",
       "    <tr>\n",
       "      <th>3</th>\n",
       "      <td>23</td>\n",
       "      <td>0.196930</td>\n",
       "      <td>0</td>\n",
       "      <td>1</td>\n",
       "    </tr>\n",
       "  </tbody>\n",
       "</table>\n",
       "</div>"
      ],
      "text/plain": [
       "   Age  Annual Income  Female  Male\n",
       "0   30       0.730511       0     1\n",
       "1   58       0.917278       1     0\n",
       "2   62       0.282798       1     0\n",
       "3   23       0.196930       0     1"
      ]
     },
     "execution_count": 17,
     "metadata": {},
     "output_type": "execute_result"
    }
   ],
   "source": [
    "#Create explanatory variable\n",
    "X = df_mall.drop(['Customer ID','Gender','Spending Score'], axis=1)\n",
    "X.head(4)"
   ]
  },
  {
   "cell_type": "code",
   "execution_count": 18,
   "id": "4be77702",
   "metadata": {
    "execution": {
     "iopub.execute_input": "2024-04-21T20:14:56.141115Z",
     "iopub.status.busy": "2024-04-21T20:14:56.140626Z",
     "iopub.status.idle": "2024-04-21T20:14:56.150400Z",
     "shell.execute_reply": "2024-04-21T20:14:56.148764Z"
    },
    "papermill": {
     "duration": 0.031099,
     "end_time": "2024-04-21T20:14:56.153256",
     "exception": false,
     "start_time": "2024-04-21T20:14:56.122157",
     "status": "completed"
    },
    "tags": []
   },
   "outputs": [
    {
     "data": {
      "text/plain": [
       "0    0.888889\n",
       "1    0.949495\n",
       "2    0.757576\n",
       "3    0.565657\n",
       "4    0.757576\n",
       "Name: Spending Score, dtype: float64"
      ]
     },
     "execution_count": 18,
     "metadata": {},
     "output_type": "execute_result"
    }
   ],
   "source": [
    "#Create target variable\n",
    "y = df_mall['Spending Score']\n",
    "y.head()"
   ]
  },
  {
   "cell_type": "code",
   "execution_count": 19,
   "id": "506e36d3",
   "metadata": {
    "execution": {
     "iopub.execute_input": "2024-04-21T20:14:56.189086Z",
     "iopub.status.busy": "2024-04-21T20:14:56.188662Z",
     "iopub.status.idle": "2024-04-21T20:14:56.200205Z",
     "shell.execute_reply": "2024-04-21T20:14:56.198983Z"
    },
    "papermill": {
     "duration": 0.032471,
     "end_time": "2024-04-21T20:14:56.203144",
     "exception": false,
     "start_time": "2024-04-21T20:14:56.170673",
     "status": "completed"
    },
    "tags": []
   },
   "outputs": [],
   "source": [
    "#Split dataset in train and test\n",
    "X_train, X_test, y_train, y_test = train_test_split(X, y, test_size=0.20, random_state=42)"
   ]
  },
  {
   "cell_type": "code",
   "execution_count": 20,
   "id": "85ff7354",
   "metadata": {
    "execution": {
     "iopub.execute_input": "2024-04-21T20:14:56.238480Z",
     "iopub.status.busy": "2024-04-21T20:14:56.238047Z",
     "iopub.status.idle": "2024-04-21T20:14:56.248316Z",
     "shell.execute_reply": "2024-04-21T20:14:56.247013Z"
    },
    "papermill": {
     "duration": 0.031595,
     "end_time": "2024-04-21T20:14:56.251430",
     "exception": false,
     "start_time": "2024-04-21T20:14:56.219835",
     "status": "completed"
    },
    "tags": []
   },
   "outputs": [],
   "source": [
    "#Split training dataset in train and validation\n",
    "X_train, X_val, y_train, y_val = train_test_split(X_train, y_train, test_size = 0.20, random_state=42)"
   ]
  },
  {
   "cell_type": "code",
   "execution_count": 21,
   "id": "7da40fe5",
   "metadata": {
    "execution": {
     "iopub.execute_input": "2024-04-21T20:14:56.286657Z",
     "iopub.status.busy": "2024-04-21T20:14:56.286053Z",
     "iopub.status.idle": "2024-04-21T20:14:56.292595Z",
     "shell.execute_reply": "2024-04-21T20:14:56.291212Z"
    },
    "papermill": {
     "duration": 0.027385,
     "end_time": "2024-04-21T20:14:56.295352",
     "exception": false,
     "start_time": "2024-04-21T20:14:56.267967",
     "status": "completed"
    },
    "tags": []
   },
   "outputs": [],
   "source": [
    "#Linear Regression and KNeighborsRegressor\n",
    "reg = LinearRegression()\n",
    "neigh = KNeighborsRegressor(n_neighbors=3)"
   ]
  },
  {
   "cell_type": "code",
   "execution_count": 22,
   "id": "3840464b",
   "metadata": {
    "execution": {
     "iopub.execute_input": "2024-04-21T20:14:56.331518Z",
     "iopub.status.busy": "2024-04-21T20:14:56.331070Z",
     "iopub.status.idle": "2024-04-21T20:14:56.377654Z",
     "shell.execute_reply": "2024-04-21T20:14:56.375927Z"
    },
    "papermill": {
     "duration": 0.068901,
     "end_time": "2024-04-21T20:14:56.380703",
     "exception": false,
     "start_time": "2024-04-21T20:14:56.311802",
     "status": "completed"
    },
    "tags": []
   },
   "outputs": [],
   "source": [
    "#Fit the training data\n",
    "reg_temp = reg.fit(X_train, y_train)\n",
    "neigh_temp = neigh.fit(X_train, y_train)"
   ]
  },
  {
   "cell_type": "code",
   "execution_count": 23,
   "id": "86142b10",
   "metadata": {
    "execution": {
     "iopub.execute_input": "2024-04-21T20:14:56.417464Z",
     "iopub.status.busy": "2024-04-21T20:14:56.417056Z",
     "iopub.status.idle": "2024-04-21T20:14:56.443298Z",
     "shell.execute_reply": "2024-04-21T20:14:56.441626Z"
    },
    "papermill": {
     "duration": 0.050194,
     "end_time": "2024-04-21T20:14:56.447901",
     "exception": false,
     "start_time": "2024-04-21T20:14:56.397707",
     "status": "completed"
    },
    "tags": []
   },
   "outputs": [],
   "source": [
    "#Predict the validation data\n",
    "y_pred_reg = reg_temp.predict(X_val)\n",
    "y_pred_neigh = neigh_temp.predict(X_val)"
   ]
  },
  {
   "cell_type": "code",
   "execution_count": 24,
   "id": "6a56231c",
   "metadata": {
    "execution": {
     "iopub.execute_input": "2024-04-21T20:14:56.521283Z",
     "iopub.status.busy": "2024-04-21T20:14:56.520619Z",
     "iopub.status.idle": "2024-04-21T20:14:56.533200Z",
     "shell.execute_reply": "2024-04-21T20:14:56.531976Z"
    },
    "papermill": {
     "duration": 0.053232,
     "end_time": "2024-04-21T20:14:56.536929",
     "exception": false,
     "start_time": "2024-04-21T20:14:56.483697",
     "status": "completed"
    },
    "tags": []
   },
   "outputs": [
    {
     "data": {
      "text/plain": [
       "(-0.0006049621480741507, -0.33675139474256155)"
      ]
     },
     "execution_count": 24,
     "metadata": {},
     "output_type": "execute_result"
    }
   ],
   "source": [
    "#Performance metric r2_score\n",
    "r2_score_reg = r2_score(y_val, y_pred_reg)\n",
    "r2_score_neigh = r2_score(y_val, y_pred_neigh)\n",
    "\n",
    "r2_score_reg, r2_score_neigh"
   ]
  },
  {
   "cell_type": "code",
   "execution_count": 25,
   "id": "f7d74127",
   "metadata": {
    "execution": {
     "iopub.execute_input": "2024-04-21T20:14:56.576045Z",
     "iopub.status.busy": "2024-04-21T20:14:56.575620Z",
     "iopub.status.idle": "2024-04-21T20:14:56.587771Z",
     "shell.execute_reply": "2024-04-21T20:14:56.586634Z"
    },
    "papermill": {
     "duration": 0.032713,
     "end_time": "2024-04-21T20:14:56.590138",
     "exception": false,
     "start_time": "2024-04-21T20:14:56.557425",
     "status": "completed"
    },
    "tags": []
   },
   "outputs": [
    {
     "data": {
      "text/html": [
       "<div>\n",
       "<style scoped>\n",
       "    .dataframe tbody tr th:only-of-type {\n",
       "        vertical-align: middle;\n",
       "    }\n",
       "\n",
       "    .dataframe tbody tr th {\n",
       "        vertical-align: top;\n",
       "    }\n",
       "\n",
       "    .dataframe thead th {\n",
       "        text-align: right;\n",
       "    }\n",
       "</style>\n",
       "<table border=\"1\" class=\"dataframe\">\n",
       "  <thead>\n",
       "    <tr style=\"text-align: right;\">\n",
       "      <th></th>\n",
       "      <th>Models</th>\n",
       "      <th>Initial</th>\n",
       "    </tr>\n",
       "  </thead>\n",
       "  <tbody>\n",
       "    <tr>\n",
       "      <th>0</th>\n",
       "      <td>LinearRegression</td>\n",
       "      <td>-0.000605</td>\n",
       "    </tr>\n",
       "    <tr>\n",
       "      <th>1</th>\n",
       "      <td>KNeighborsRegressor</td>\n",
       "      <td>-0.336751</td>\n",
       "    </tr>\n",
       "  </tbody>\n",
       "</table>\n",
       "</div>"
      ],
      "text/plain": [
       "                Models   Initial\n",
       "0     LinearRegression -0.000605\n",
       "1  KNeighborsRegressor -0.336751"
      ]
     },
     "execution_count": 25,
     "metadata": {},
     "output_type": "execute_result"
    }
   ],
   "source": [
    "#Create a dataframe to display the results\n",
    "df_result = pd.DataFrame({\n",
    "    'Models': ['LinearRegression','KNeighborsRegressor'],\n",
    "    'Initial': [r2_score_reg, r2_score_neigh]\n",
    "})\n",
    "df_result"
   ]
  },
  {
   "cell_type": "code",
   "execution_count": 26,
   "id": "88636687",
   "metadata": {
    "execution": {
     "iopub.execute_input": "2024-04-21T20:14:56.625748Z",
     "iopub.status.busy": "2024-04-21T20:14:56.625279Z",
     "iopub.status.idle": "2024-04-21T20:14:56.640500Z",
     "shell.execute_reply": "2024-04-21T20:14:56.638829Z"
    },
    "papermill": {
     "duration": 0.036707,
     "end_time": "2024-04-21T20:14:56.643501",
     "exception": false,
     "start_time": "2024-04-21T20:14:56.606794",
     "status": "completed"
    },
    "tags": []
   },
   "outputs": [
    {
     "data": {
      "text/html": [
       "<div>\n",
       "<style scoped>\n",
       "    .dataframe tbody tr th:only-of-type {\n",
       "        vertical-align: middle;\n",
       "    }\n",
       "\n",
       "    .dataframe tbody tr th {\n",
       "        vertical-align: top;\n",
       "    }\n",
       "\n",
       "    .dataframe thead th {\n",
       "        text-align: right;\n",
       "    }\n",
       "</style>\n",
       "<table border=\"1\" class=\"dataframe\">\n",
       "  <thead>\n",
       "    <tr style=\"text-align: right;\">\n",
       "      <th></th>\n",
       "      <th>Age</th>\n",
       "      <th>Annual Income</th>\n",
       "    </tr>\n",
       "  </thead>\n",
       "  <tbody>\n",
       "    <tr>\n",
       "      <th>0</th>\n",
       "      <td>30</td>\n",
       "      <td>0.730511</td>\n",
       "    </tr>\n",
       "    <tr>\n",
       "      <th>1</th>\n",
       "      <td>58</td>\n",
       "      <td>0.917278</td>\n",
       "    </tr>\n",
       "    <tr>\n",
       "      <th>2</th>\n",
       "      <td>62</td>\n",
       "      <td>0.282798</td>\n",
       "    </tr>\n",
       "    <tr>\n",
       "      <th>3</th>\n",
       "      <td>23</td>\n",
       "      <td>0.196930</td>\n",
       "    </tr>\n",
       "  </tbody>\n",
       "</table>\n",
       "</div>"
      ],
      "text/plain": [
       "   Age  Annual Income\n",
       "0   30       0.730511\n",
       "1   58       0.917278\n",
       "2   62       0.282798\n",
       "3   23       0.196930"
      ]
     },
     "execution_count": 26,
     "metadata": {},
     "output_type": "execute_result"
    }
   ],
   "source": [
    "#Create explanatory variable\n",
    "X = df_mall.drop(['Customer ID','Gender','Spending Score','Female','Male'], axis=1)\n",
    "X.head(4)"
   ]
  },
  {
   "cell_type": "code",
   "execution_count": 27,
   "id": "eba610d8",
   "metadata": {
    "execution": {
     "iopub.execute_input": "2024-04-21T20:14:56.744507Z",
     "iopub.status.busy": "2024-04-21T20:14:56.744073Z",
     "iopub.status.idle": "2024-04-21T20:14:56.786667Z",
     "shell.execute_reply": "2024-04-21T20:14:56.785437Z"
    },
    "papermill": {
     "duration": 0.128328,
     "end_time": "2024-04-21T20:14:56.789683",
     "exception": false,
     "start_time": "2024-04-21T20:14:56.661355",
     "status": "completed"
    },
    "tags": []
   },
   "outputs": [
    {
     "data": {
      "text/html": [
       "<div>\n",
       "<style scoped>\n",
       "    .dataframe tbody tr th:only-of-type {\n",
       "        vertical-align: middle;\n",
       "    }\n",
       "\n",
       "    .dataframe tbody tr th {\n",
       "        vertical-align: top;\n",
       "    }\n",
       "\n",
       "    .dataframe thead th {\n",
       "        text-align: right;\n",
       "    }\n",
       "</style>\n",
       "<table border=\"1\" class=\"dataframe\">\n",
       "  <thead>\n",
       "    <tr style=\"text-align: right;\">\n",
       "      <th></th>\n",
       "      <th>Models</th>\n",
       "      <th>Initial</th>\n",
       "      <th>Age</th>\n",
       "    </tr>\n",
       "  </thead>\n",
       "  <tbody>\n",
       "    <tr>\n",
       "      <th>0</th>\n",
       "      <td>LinearRegression</td>\n",
       "      <td>-0.000605</td>\n",
       "      <td>-0.000700</td>\n",
       "    </tr>\n",
       "    <tr>\n",
       "      <th>1</th>\n",
       "      <td>KNeighborsRegressor</td>\n",
       "      <td>-0.336751</td>\n",
       "      <td>-0.345959</td>\n",
       "    </tr>\n",
       "  </tbody>\n",
       "</table>\n",
       "</div>"
      ],
      "text/plain": [
       "                Models   Initial       Age\n",
       "0     LinearRegression -0.000605 -0.000700\n",
       "1  KNeighborsRegressor -0.336751 -0.345959"
      ]
     },
     "execution_count": 27,
     "metadata": {},
     "output_type": "execute_result"
    }
   ],
   "source": [
    "#Split dataset in train and test\n",
    "X_train, X_test, y_train, y_test = train_test_split(X, y, test_size=0.20, random_state=42)\n",
    "\n",
    "#Split training dataset in train and validation\n",
    "X_train, X_val, y_train, y_val = train_test_split(X_train, y_train, test_size = 0.20, random_state=42)\n",
    "\n",
    "#Fit the training data\n",
    "reg_temp = reg.fit(X_train, y_train)\n",
    "neigh_temp = neigh.fit(X_train, y_train)\n",
    "\n",
    "#Predict the validation data\n",
    "y_pred_reg = reg_temp.predict(X_val)\n",
    "y_pred_neigh = neigh_temp.predict(X_val)\n",
    "\n",
    "#Performance metric r2_score\n",
    "r2_score_reg = r2_score(y_val, y_pred_reg)\n",
    "r2_score_neigh = r2_score(y_val, y_pred_neigh)\n",
    "\n",
    "#Add predicted values\n",
    "df_result['Age'] = [r2_score_reg, r2_score_neigh]\n",
    "df_result"
   ]
  },
  {
   "cell_type": "code",
   "execution_count": 28,
   "id": "5167ff92",
   "metadata": {
    "execution": {
     "iopub.execute_input": "2024-04-21T20:14:56.825970Z",
     "iopub.status.busy": "2024-04-21T20:14:56.825555Z",
     "iopub.status.idle": "2024-04-21T20:14:56.838137Z",
     "shell.execute_reply": "2024-04-21T20:14:56.836906Z"
    },
    "papermill": {
     "duration": 0.033778,
     "end_time": "2024-04-21T20:14:56.840725",
     "exception": false,
     "start_time": "2024-04-21T20:14:56.806947",
     "status": "completed"
    },
    "tags": []
   },
   "outputs": [
    {
     "data": {
      "text/html": [
       "<div>\n",
       "<style scoped>\n",
       "    .dataframe tbody tr th:only-of-type {\n",
       "        vertical-align: middle;\n",
       "    }\n",
       "\n",
       "    .dataframe tbody tr th {\n",
       "        vertical-align: top;\n",
       "    }\n",
       "\n",
       "    .dataframe thead th {\n",
       "        text-align: right;\n",
       "    }\n",
       "</style>\n",
       "<table border=\"1\" class=\"dataframe\">\n",
       "  <thead>\n",
       "    <tr style=\"text-align: right;\">\n",
       "      <th></th>\n",
       "      <th>Annual Income</th>\n",
       "    </tr>\n",
       "  </thead>\n",
       "  <tbody>\n",
       "    <tr>\n",
       "      <th>0</th>\n",
       "      <td>0.730511</td>\n",
       "    </tr>\n",
       "    <tr>\n",
       "      <th>1</th>\n",
       "      <td>0.917278</td>\n",
       "    </tr>\n",
       "    <tr>\n",
       "      <th>2</th>\n",
       "      <td>0.282798</td>\n",
       "    </tr>\n",
       "    <tr>\n",
       "      <th>3</th>\n",
       "      <td>0.196930</td>\n",
       "    </tr>\n",
       "  </tbody>\n",
       "</table>\n",
       "</div>"
      ],
      "text/plain": [
       "   Annual Income\n",
       "0       0.730511\n",
       "1       0.917278\n",
       "2       0.282798\n",
       "3       0.196930"
      ]
     },
     "execution_count": 28,
     "metadata": {},
     "output_type": "execute_result"
    }
   ],
   "source": [
    "#Create explanatory variable\n",
    "X = df_mall.drop(['Customer ID','Gender','Spending Score','Female','Male','Age'], axis=1)\n",
    "X.head(4)"
   ]
  },
  {
   "cell_type": "code",
   "execution_count": 29,
   "id": "0cbb128b",
   "metadata": {
    "execution": {
     "iopub.execute_input": "2024-04-21T20:14:56.879058Z",
     "iopub.status.busy": "2024-04-21T20:14:56.878676Z",
     "iopub.status.idle": "2024-04-21T20:14:56.914402Z",
     "shell.execute_reply": "2024-04-21T20:14:56.913167Z"
    },
    "papermill": {
     "duration": 0.058483,
     "end_time": "2024-04-21T20:14:56.917203",
     "exception": false,
     "start_time": "2024-04-21T20:14:56.858720",
     "status": "completed"
    },
    "tags": []
   },
   "outputs": [
    {
     "data": {
      "text/html": [
       "<div>\n",
       "<style scoped>\n",
       "    .dataframe tbody tr th:only-of-type {\n",
       "        vertical-align: middle;\n",
       "    }\n",
       "\n",
       "    .dataframe tbody tr th {\n",
       "        vertical-align: top;\n",
       "    }\n",
       "\n",
       "    .dataframe thead th {\n",
       "        text-align: right;\n",
       "    }\n",
       "</style>\n",
       "<table border=\"1\" class=\"dataframe\">\n",
       "  <thead>\n",
       "    <tr style=\"text-align: right;\">\n",
       "      <th></th>\n",
       "      <th>Models</th>\n",
       "      <th>Initial</th>\n",
       "      <th>Age</th>\n",
       "      <th>Anual_Incoming</th>\n",
       "    </tr>\n",
       "  </thead>\n",
       "  <tbody>\n",
       "    <tr>\n",
       "      <th>0</th>\n",
       "      <td>LinearRegression</td>\n",
       "      <td>-0.000605</td>\n",
       "      <td>-0.000700</td>\n",
       "      <td>-0.000800</td>\n",
       "    </tr>\n",
       "    <tr>\n",
       "      <th>1</th>\n",
       "      <td>KNeighborsRegressor</td>\n",
       "      <td>-0.336751</td>\n",
       "      <td>-0.345959</td>\n",
       "      <td>-0.322949</td>\n",
       "    </tr>\n",
       "  </tbody>\n",
       "</table>\n",
       "</div>"
      ],
      "text/plain": [
       "                Models   Initial       Age  Anual_Incoming\n",
       "0     LinearRegression -0.000605 -0.000700       -0.000800\n",
       "1  KNeighborsRegressor -0.336751 -0.345959       -0.322949"
      ]
     },
     "execution_count": 29,
     "metadata": {},
     "output_type": "execute_result"
    }
   ],
   "source": [
    "#Split dataset in train and test\n",
    "X_train, X_test, y_train, y_test = train_test_split(X, y, test_size=0.20, random_state=42)\n",
    "\n",
    "#Split training dataset in train and validation\n",
    "X_train, X_val, y_train, y_val = train_test_split(X_train, y_train, test_size = 0.20, random_state=42)\n",
    "\n",
    "#Fit the training data\n",
    "reg_temp = reg.fit(X_train, y_train)\n",
    "neigh_temp = neigh.fit(X_train, y_train)\n",
    "\n",
    "#Predict the validation data\n",
    "y_pred_reg = reg_temp.predict(X_val)\n",
    "y_pred_neigh = neigh_temp.predict(X_val)\n",
    "\n",
    "#Performance metric r2_score\n",
    "r2_score_reg = r2_score(y_val, y_pred_reg)\n",
    "r2_score_neigh = r2_score(y_val, y_pred_neigh)\n",
    "\n",
    "#Add predicted values\n",
    "df_result['Anual_Incoming'] = [r2_score_reg, r2_score_neigh]\n",
    "df_result"
   ]
  },
  {
   "cell_type": "code",
   "execution_count": 30,
   "id": "0a0891f2",
   "metadata": {
    "execution": {
     "iopub.execute_input": "2024-04-21T20:14:56.955181Z",
     "iopub.status.busy": "2024-04-21T20:14:56.954708Z",
     "iopub.status.idle": "2024-04-21T20:14:56.996051Z",
     "shell.execute_reply": "2024-04-21T20:14:56.994845Z"
    },
    "papermill": {
     "duration": 0.063928,
     "end_time": "2024-04-21T20:14:56.998711",
     "exception": false,
     "start_time": "2024-04-21T20:14:56.934783",
     "status": "completed"
    },
    "tags": []
   },
   "outputs": [
    {
     "data": {
      "text/html": [
       "<div>\n",
       "<style scoped>\n",
       "    .dataframe tbody tr th:only-of-type {\n",
       "        vertical-align: middle;\n",
       "    }\n",
       "\n",
       "    .dataframe tbody tr th {\n",
       "        vertical-align: top;\n",
       "    }\n",
       "\n",
       "    .dataframe thead th {\n",
       "        text-align: right;\n",
       "    }\n",
       "</style>\n",
       "<table border=\"1\" class=\"dataframe\">\n",
       "  <thead>\n",
       "    <tr style=\"text-align: right;\">\n",
       "      <th></th>\n",
       "      <th>Models</th>\n",
       "      <th>Initial</th>\n",
       "      <th>Age</th>\n",
       "      <th>Anual_Incoming</th>\n",
       "      <th>9_neighbors</th>\n",
       "    </tr>\n",
       "  </thead>\n",
       "  <tbody>\n",
       "    <tr>\n",
       "      <th>0</th>\n",
       "      <td>LinearRegression</td>\n",
       "      <td>-0.000605</td>\n",
       "      <td>-0.000700</td>\n",
       "      <td>-0.000800</td>\n",
       "      <td>-0.000800</td>\n",
       "    </tr>\n",
       "    <tr>\n",
       "      <th>1</th>\n",
       "      <td>KNeighborsRegressor</td>\n",
       "      <td>-0.336751</td>\n",
       "      <td>-0.345959</td>\n",
       "      <td>-0.322949</td>\n",
       "      <td>-0.098221</td>\n",
       "    </tr>\n",
       "  </tbody>\n",
       "</table>\n",
       "</div>"
      ],
      "text/plain": [
       "                Models   Initial       Age  Anual_Incoming  9_neighbors\n",
       "0     LinearRegression -0.000605 -0.000700       -0.000800    -0.000800\n",
       "1  KNeighborsRegressor -0.336751 -0.345959       -0.322949    -0.098221"
      ]
     },
     "execution_count": 30,
     "metadata": {},
     "output_type": "execute_result"
    }
   ],
   "source": [
    "#Split dataset in train and test\n",
    "X_train, X_test, y_train, y_test = train_test_split(X, y, test_size=0.20, random_state=42)\n",
    "\n",
    "#Split training dataset in train and validation\n",
    "X_train, X_val, y_train, y_val = train_test_split(X_train, y_train, test_size = 0.20, random_state=42)\n",
    "\n",
    "#New parameter\n",
    "neigh = KNeighborsRegressor(n_neighbors=9)\n",
    "\n",
    "#Fit the training data\n",
    "reg_temp = reg.fit(X_train, y_train)\n",
    "neigh_temp = neigh.fit(X_train, y_train)\n",
    "\n",
    "#Predict the validation data\n",
    "y_pred_reg = reg_temp.predict(X_val)\n",
    "y_pred_neigh = neigh_temp.predict(X_val)\n",
    "\n",
    "#Performance metric r2_score\n",
    "r2_score_reg = r2_score(y_val, y_pred_reg)\n",
    "r2_score_neigh = r2_score(y_val, y_pred_neigh)\n",
    "\n",
    "#Add predicted values\n",
    "df_result['9_neighbors'] = [r2_score_reg, r2_score_neigh]\n",
    "df_result"
   ]
  },
  {
   "cell_type": "code",
   "execution_count": 31,
   "id": "5eaccbb6",
   "metadata": {
    "execution": {
     "iopub.execute_input": "2024-04-21T20:14:57.036662Z",
     "iopub.status.busy": "2024-04-21T20:14:57.036206Z",
     "iopub.status.idle": "2024-04-21T20:14:57.050205Z",
     "shell.execute_reply": "2024-04-21T20:14:57.049020Z"
    },
    "papermill": {
     "duration": 0.036424,
     "end_time": "2024-04-21T20:14:57.053102",
     "exception": false,
     "start_time": "2024-04-21T20:14:57.016678",
     "status": "completed"
    },
    "tags": []
   },
   "outputs": [
    {
     "data": {
      "text/html": [
       "<div>\n",
       "<style scoped>\n",
       "    .dataframe tbody tr th:only-of-type {\n",
       "        vertical-align: middle;\n",
       "    }\n",
       "\n",
       "    .dataframe tbody tr th {\n",
       "        vertical-align: top;\n",
       "    }\n",
       "\n",
       "    .dataframe thead th {\n",
       "        text-align: right;\n",
       "    }\n",
       "</style>\n",
       "<table border=\"1\" class=\"dataframe\">\n",
       "  <thead>\n",
       "    <tr style=\"text-align: right;\">\n",
       "      <th></th>\n",
       "      <th>Annual Income</th>\n",
       "      <th>Female</th>\n",
       "      <th>Male</th>\n",
       "    </tr>\n",
       "  </thead>\n",
       "  <tbody>\n",
       "    <tr>\n",
       "      <th>0</th>\n",
       "      <td>0.730511</td>\n",
       "      <td>0</td>\n",
       "      <td>1</td>\n",
       "    </tr>\n",
       "    <tr>\n",
       "      <th>1</th>\n",
       "      <td>0.917278</td>\n",
       "      <td>1</td>\n",
       "      <td>0</td>\n",
       "    </tr>\n",
       "    <tr>\n",
       "      <th>2</th>\n",
       "      <td>0.282798</td>\n",
       "      <td>1</td>\n",
       "      <td>0</td>\n",
       "    </tr>\n",
       "    <tr>\n",
       "      <th>3</th>\n",
       "      <td>0.196930</td>\n",
       "      <td>0</td>\n",
       "      <td>1</td>\n",
       "    </tr>\n",
       "  </tbody>\n",
       "</table>\n",
       "</div>"
      ],
      "text/plain": [
       "   Annual Income  Female  Male\n",
       "0       0.730511       0     1\n",
       "1       0.917278       1     0\n",
       "2       0.282798       1     0\n",
       "3       0.196930       0     1"
      ]
     },
     "execution_count": 31,
     "metadata": {},
     "output_type": "execute_result"
    }
   ],
   "source": [
    "#Create explanatory variable\n",
    "X = df_mall.drop(['Customer ID','Gender','Spending Score','Age'], axis=1)\n",
    "X.head(4)"
   ]
  },
  {
   "cell_type": "code",
   "execution_count": 32,
   "id": "86b6e88b",
   "metadata": {
    "execution": {
     "iopub.execute_input": "2024-04-21T20:14:57.095484Z",
     "iopub.status.busy": "2024-04-21T20:14:57.095031Z",
     "iopub.status.idle": "2024-04-21T20:14:57.149113Z",
     "shell.execute_reply": "2024-04-21T20:14:57.147995Z"
    },
    "papermill": {
     "duration": 0.077525,
     "end_time": "2024-04-21T20:14:57.151740",
     "exception": false,
     "start_time": "2024-04-21T20:14:57.074215",
     "status": "completed"
    },
    "tags": []
   },
   "outputs": [
    {
     "data": {
      "text/html": [
       "<div>\n",
       "<style scoped>\n",
       "    .dataframe tbody tr th:only-of-type {\n",
       "        vertical-align: middle;\n",
       "    }\n",
       "\n",
       "    .dataframe tbody tr th {\n",
       "        vertical-align: top;\n",
       "    }\n",
       "\n",
       "    .dataframe thead th {\n",
       "        text-align: right;\n",
       "    }\n",
       "</style>\n",
       "<table border=\"1\" class=\"dataframe\">\n",
       "  <thead>\n",
       "    <tr style=\"text-align: right;\">\n",
       "      <th></th>\n",
       "      <th>Models</th>\n",
       "      <th>Initial</th>\n",
       "      <th>Age</th>\n",
       "      <th>Anual_Incoming</th>\n",
       "      <th>9_neighbors</th>\n",
       "      <th>Gender</th>\n",
       "    </tr>\n",
       "  </thead>\n",
       "  <tbody>\n",
       "    <tr>\n",
       "      <th>0</th>\n",
       "      <td>LinearRegression</td>\n",
       "      <td>-0.000605</td>\n",
       "      <td>-0.000700</td>\n",
       "      <td>-0.000800</td>\n",
       "      <td>-0.000800</td>\n",
       "      <td>-0.000705</td>\n",
       "    </tr>\n",
       "    <tr>\n",
       "      <th>1</th>\n",
       "      <td>KNeighborsRegressor</td>\n",
       "      <td>-0.336751</td>\n",
       "      <td>-0.345959</td>\n",
       "      <td>-0.322949</td>\n",
       "      <td>-0.098221</td>\n",
       "      <td>-0.319873</td>\n",
       "    </tr>\n",
       "  </tbody>\n",
       "</table>\n",
       "</div>"
      ],
      "text/plain": [
       "                Models   Initial       Age  Anual_Incoming  9_neighbors  \\\n",
       "0     LinearRegression -0.000605 -0.000700       -0.000800    -0.000800   \n",
       "1  KNeighborsRegressor -0.336751 -0.345959       -0.322949    -0.098221   \n",
       "\n",
       "     Gender  \n",
       "0 -0.000705  \n",
       "1 -0.319873  "
      ]
     },
     "execution_count": 32,
     "metadata": {},
     "output_type": "execute_result"
    }
   ],
   "source": [
    "#Split dataset in train and test\n",
    "X_train, X_test, y_train, y_test = train_test_split(X, y, test_size=0.20, random_state=42)\n",
    "\n",
    "#Split training dataset in train and validation\n",
    "X_train, X_val, y_train, y_val = train_test_split(X_train, y_train, test_size = 0.20, random_state=42)\n",
    "\n",
    "#New parameter\n",
    "neigh = KNeighborsRegressor(n_neighbors=3)\n",
    "\n",
    "#Fit the training data\n",
    "reg_temp = reg.fit(X_train, y_train)\n",
    "neigh_temp = neigh.fit(X_train, y_train)\n",
    "\n",
    "#Predict the validation data\n",
    "y_pred_reg = reg_temp.predict(X_val)\n",
    "y_pred_neigh = neigh_temp.predict(X_val)\n",
    "\n",
    "#Performance metric r2_score\n",
    "r2_score_reg = r2_score(y_val, y_pred_reg)\n",
    "r2_score_neigh = r2_score(y_val, y_pred_neigh)\n",
    "\n",
    "#Add predicted values\n",
    "df_result['Gender'] = [r2_score_reg, r2_score_neigh]\n",
    "df_result"
   ]
  },
  {
   "cell_type": "code",
   "execution_count": 33,
   "id": "85d85805",
   "metadata": {
    "execution": {
     "iopub.execute_input": "2024-04-21T20:14:57.190306Z",
     "iopub.status.busy": "2024-04-21T20:14:57.189883Z",
     "iopub.status.idle": "2024-04-21T20:14:57.199257Z",
     "shell.execute_reply": "2024-04-21T20:14:57.197978Z"
    },
    "papermill": {
     "duration": 0.031455,
     "end_time": "2024-04-21T20:14:57.201670",
     "exception": false,
     "start_time": "2024-04-21T20:14:57.170215",
     "status": "completed"
    },
    "tags": []
   },
   "outputs": [
    {
     "data": {
      "text/plain": [
       "12179    0.313131\n",
       "13914    0.060606\n",
       "830      0.090909\n",
       "11010    0.383838\n",
       "8998     0.161616\n",
       "           ...   \n",
       "995      0.171717\n",
       "1212     0.454545\n",
       "10630    0.363636\n",
       "14778    0.797980\n",
       "5166     0.232323\n",
       "Name: Spending Score, Length: 9650, dtype: float64"
      ]
     },
     "execution_count": 33,
     "metadata": {},
     "output_type": "execute_result"
    }
   ],
   "source": [
    "y_train"
   ]
  },
  {
   "cell_type": "code",
   "execution_count": 34,
   "id": "53f957fc",
   "metadata": {
    "execution": {
     "iopub.execute_input": "2024-04-21T20:14:57.241717Z",
     "iopub.status.busy": "2024-04-21T20:14:57.241297Z",
     "iopub.status.idle": "2024-04-21T20:14:57.261775Z",
     "shell.execute_reply": "2024-04-21T20:14:57.260385Z"
    },
    "papermill": {
     "duration": 0.044063,
     "end_time": "2024-04-21T20:14:57.264947",
     "exception": false,
     "start_time": "2024-04-21T20:14:57.220884",
     "status": "completed"
    },
    "tags": []
   },
   "outputs": [
    {
     "data": {
      "text/html": [
       "<div>\n",
       "<style scoped>\n",
       "    .dataframe tbody tr th:only-of-type {\n",
       "        vertical-align: middle;\n",
       "    }\n",
       "\n",
       "    .dataframe tbody tr th {\n",
       "        vertical-align: top;\n",
       "    }\n",
       "\n",
       "    .dataframe thead th {\n",
       "        text-align: right;\n",
       "    }\n",
       "</style>\n",
       "<table border=\"1\" class=\"dataframe\">\n",
       "  <thead>\n",
       "    <tr style=\"text-align: right;\">\n",
       "      <th></th>\n",
       "      <th>Spending Score</th>\n",
       "      <th>Male</th>\n",
       "      <th>Female</th>\n",
       "      <th>Annual Income</th>\n",
       "    </tr>\n",
       "  </thead>\n",
       "  <tbody>\n",
       "    <tr>\n",
       "      <th>0</th>\n",
       "      <td>0.000000</td>\n",
       "      <td>71</td>\n",
       "      <td>81</td>\n",
       "      <td>83.266493</td>\n",
       "    </tr>\n",
       "    <tr>\n",
       "      <th>1</th>\n",
       "      <td>0.010101</td>\n",
       "      <td>74</td>\n",
       "      <td>65</td>\n",
       "      <td>70.623816</td>\n",
       "    </tr>\n",
       "    <tr>\n",
       "      <th>2</th>\n",
       "      <td>0.020202</td>\n",
       "      <td>71</td>\n",
       "      <td>91</td>\n",
       "      <td>78.969475</td>\n",
       "    </tr>\n",
       "    <tr>\n",
       "      <th>3</th>\n",
       "      <td>0.030303</td>\n",
       "      <td>64</td>\n",
       "      <td>65</td>\n",
       "      <td>61.953593</td>\n",
       "    </tr>\n",
       "    <tr>\n",
       "      <th>4</th>\n",
       "      <td>0.040404</td>\n",
       "      <td>67</td>\n",
       "      <td>86</td>\n",
       "      <td>81.048596</td>\n",
       "    </tr>\n",
       "  </tbody>\n",
       "</table>\n",
       "</div>"
      ],
      "text/plain": [
       "   Spending Score  Male  Female  Annual Income\n",
       "0        0.000000    71      81      83.266493\n",
       "1        0.010101    74      65      70.623816\n",
       "2        0.020202    71      91      78.969475\n",
       "3        0.030303    64      65      61.953593\n",
       "4        0.040404    67      86      81.048596"
      ]
     },
     "execution_count": 34,
     "metadata": {},
     "output_type": "execute_result"
    }
   ],
   "source": [
    "df_by_score = df_mall.groupby(['Spending Score']).agg({'Male':'sum','Female':'sum','Annual Income':'sum'}).reset_index()\n",
    "df_by_score.head()"
   ]
  },
  {
   "cell_type": "code",
   "execution_count": null,
   "id": "f85aea16",
   "metadata": {
    "execution": {
     "iopub.execute_input": "2024-04-18T20:06:12.155877Z",
     "iopub.status.busy": "2024-04-18T20:06:12.155030Z",
     "iopub.status.idle": "2024-04-18T20:06:12.167317Z",
     "shell.execute_reply": "2024-04-18T20:06:12.166150Z",
     "shell.execute_reply.started": "2024-04-18T20:06:12.155830Z"
    },
    "papermill": {
     "duration": 0.019135,
     "end_time": "2024-04-21T20:14:57.303113",
     "exception": false,
     "start_time": "2024-04-21T20:14:57.283978",
     "status": "completed"
    },
    "tags": []
   },
   "outputs": [],
   "source": []
  },
  {
   "cell_type": "code",
   "execution_count": 35,
   "id": "a5565cd5",
   "metadata": {
    "execution": {
     "iopub.execute_input": "2024-04-21T20:14:57.344010Z",
     "iopub.status.busy": "2024-04-21T20:14:57.343608Z",
     "iopub.status.idle": "2024-04-21T20:14:57.633577Z",
     "shell.execute_reply": "2024-04-21T20:14:57.632195Z"
    },
    "papermill": {
     "duration": 0.313254,
     "end_time": "2024-04-21T20:14:57.636364",
     "exception": false,
     "start_time": "2024-04-21T20:14:57.323110",
     "status": "completed"
    },
    "tags": []
   },
   "outputs": [
    {
     "data": {
      "text/plain": [
       "(0.0, 96.43943940606384)"
      ]
     },
     "execution_count": 35,
     "metadata": {},
     "output_type": "execute_result"
    },
    {
     "data": {
      "image/png": "[encoded data removed]",
      "text/plain": [
       "<Figure size 1000x500 with 1 Axes>"
      ]
     },
     "metadata": {},
     "output_type": "display_data"
    }
   ],
   "source": [
    "fig = plt.figure(figsize=[10,5])\n",
    "ax = fig.add_subplot()\n",
    "\n",
    "ax.scatter(df_by_score['Spending Score'], df_by_score['Annual Income'], s=10, c='green')\n",
    "ax.set_xlim(0,df_by_score['Spending Score'].max())\n",
    "ax.set_ylim(0,df_by_score['Annual Income'].max()+5)\n",
    "#ax.scatter(df_mall['Spending Score'], df_mall['Annual Income'], s=50, c='blue')\n",
    "#ax.plot(X_test, y_test, lw=10, c='orange')\n",
    "#ax.plot(X_val, y_val, lw=5, c='red')\n",
    "#ax.plot(X_val, y_pred_neigh, lw=2, c='yellow')"
   ]
  },
  {
   "cell_type": "code",
   "execution_count": null,
   "id": "1134e529",
   "metadata": {
    "papermill": {
     "duration": 0.019059,
     "end_time": "2024-04-21T20:14:57.674686",
     "exception": false,
     "start_time": "2024-04-21T20:14:57.655627",
     "status": "completed"
    },
    "tags": []
   },
   "outputs": [],
   "source": []
  },
  {
   "cell_type": "code",
   "execution_count": null,
   "id": "b33e7bd6",
   "metadata": {
    "papermill": {
     "duration": 0.019027,
     "end_time": "2024-04-21T20:14:57.713846",
     "exception": false,
     "start_time": "2024-04-21T20:14:57.694819",
     "status": "completed"
    },
    "tags": []
   },
   "outputs": [],
   "source": []
  },
  {
   "cell_type": "code",
   "execution_count": null,
   "id": "dbf5214e",
   "metadata": {
    "papermill": {
     "duration": 0.020082,
     "end_time": "2024-04-21T20:14:57.753767",
     "exception": false,
     "start_time": "2024-04-21T20:14:57.733685",
     "status": "completed"
    },
    "tags": []
   },
   "outputs": [],
   "source": []
  },
  {
   "cell_type": "code",
   "execution_count": null,
   "id": "3fa38bd4",
   "metadata": {
    "papermill": {
     "duration": 0.020464,
     "end_time": "2024-04-21T20:14:57.793739",
     "exception": false,
     "start_time": "2024-04-21T20:14:57.773275",
     "status": "completed"
    },
    "tags": []
   },
   "outputs": [],
   "source": []
  }
 ],
 "metadata": {
  "kaggle": {
   "accelerator": "none",
   "dataSources": [
    {
     "datasetId": 4694823,
     "sourceId": 7977302,
     "sourceType": "datasetVersion"
    }
   ],
   "dockerImageVersionId": 30684,
   "isGpuEnabled": false,
   "isInternetEnabled": true,
   "language": "python",
   "sourceType": "notebook"
  },
  "kernelspec": {
   "display_name": "Python 3",
   "language": "python",
   "name": "python3"
  },
  "language_info": {
   "codemirror_mode": {
    "name": "ipython",
    "version": 3
   },
   "file_extension": ".py",
   "mimetype": "text/x-python",
   "name": "python",
   "nbconvert_exporter": "python",
   "pygments_lexer": "ipython3",
   "version": "3.10.13"
  },
  "papermill": {
   "default_parameters": {},
   "duration": 10.242288,
   "end_time": "2024-04-21T20:14:58.435204",
   "environment_variables": {},
   "exception": null,
   "input_path": "__notebook__.ipynb",
   "output_path": "__notebook__.ipynb",
   "parameters": {},
   "start_time": "2024-04-21T20:14:48.192916",
   "version": "2.5.0"
  }
 },
 "nbformat": 4,
 "nbformat_minor": 5
}
